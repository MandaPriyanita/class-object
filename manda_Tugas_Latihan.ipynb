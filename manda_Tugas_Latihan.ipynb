{
  "nbformat": 4,
  "nbformat_minor": 0,
  "metadata": {
    "colab": {
      "provenance": [],
      "include_colab_link": true
    },
    "kernelspec": {
      "name": "python3",
      "display_name": "Python 3"
    },
    "language_info": {
      "name": "python"
    }
  },
  "cells": [
    {
      "cell_type": "markdown",
      "metadata": {
        "id": "view-in-github",
        "colab_type": "text"
      },
      "source": [
        "<a href=\"https://colab.research.google.com/github/MandaPriyanita/class-object/blob/main/manda_Tugas_Latihan.ipynb\" target=\"_parent\"><img src=\"https://colab.research.google.com/assets/colab-badge.svg\" alt=\"Open In Colab\"/></a>"
      ]
    },
    {
      "cell_type": "markdown",
      "source": [
        "Sebuah start-up GoPay merupakan perusahaan vintage yang menjadi alat pembayaran aplikasi marketplace dan lainnya. Anda seorang programmer yang ditugaskan untuk membuat aplikasi GoPay yang memiliki sebuah class bernama AkunGopay, yang memiliki atribut no_hp, nama dan saldo, dimana semua atribut bersifat private, demi keamanan.\n",
        "\n",
        "\n",
        "Pengguna bisa mendaftar akun GoPay dengan no_hp dan nama saja, namun juga bisa mendaftar dengan no_hp, nama dan saldo. Jika mendaftar dengan no_hp dan nama saja maka saldo otomatis bernilai 0.\n",
        "\n",
        "\n",
        "Class AkunGopay harus menyediakan fungsi yang dapat diakses oleh Marketplace untuk melakukan transaksi, yaitu :\n",
        "\n",
        "1.   topUp(), yang digunakan untuk menambahkan saldo\n",
        "2.   bayarTransaksi(), yang mengurangi saldo ketika melakukan transaksi\n",
        "3.   getSaldo(), untuk mengetahui jumlah saldo\n",
        "\n",
        "\n",
        "\n",
        "Teman Anda adalah seorang programer yang bekerja di sebuah start-up terkemuka Tokopedia yang bekerjasama dengan start-up keuangan GoPay. Anda ditugaskan membuat apikasi yang memiliki class AkunToped, dan memiliki atribut nama dan nomer_hp.\n",
        "\n",
        "Class AkunToped harus menyediakan fungsi yang untuk melakukan transaksi, yaitu:\n",
        "\n",
        "1. transaksi(), yang digunakan untuk mengurangi saldo Gopay dengan paramater nominal transaksi.\n",
        "2. getSaldo(), untuk mengetahui jumlah saldo Gopay.\n",
        "\n"
      ],
      "metadata": {
        "id": "NOQKwrfHB4pv"
      }
    },
    {
      "cell_type": "code",
      "execution_count": 2,
      "metadata": {
        "id": "peDTMz-5kxlh"
      },
      "outputs": [],
      "source": [
        "#Desain Class\n",
        "class AkunGopay:\n",
        "    def __init__(self, no_hp, nama, saldo=0):\n",
        "        self.__no_hp = no_hp\n",
        "        self.__nama = nama\n",
        "        self.__saldo = saldo\n",
        "\n",
        "    def topUp(self, nominal_transaksi):\n",
        "      self.__saldo = self.__saldo + nominal_transaksi\n",
        "      print(f'Top up Berhasil! saldo anda: {self.__saldo}')\n",
        "\n",
        "\n",
        "    def bayartransaksi(self, nominal):\n",
        "      if nominal <= self.__saldo:\n",
        "        self.__saldo = self.__saldo - nominal\n",
        "        print(f'Bayar transaksi berhasil! saldo anda: {self.__saldo}')\n",
        "      else:\n",
        "        print(f'Saldo anda tidak mencukupi!')\n",
        "\n",
        "    def get_saldo(self):\n",
        "        return self.__saldo\n",
        "\n",
        "class AkunToped:\n",
        "    def __init__(self, no_hp, nama):\n",
        "        self.__no_hp = no_hp\n",
        "        self.__nama = nama\n",
        "\n",
        "    def transaksi(self, gopay, nominal):\n",
        "        if nominal <= gopay.get_saldo():\n",
        "          gopay.bayartransaksi(nominal)\n",
        "\n",
        "        else:\n",
        "          print(f'Saldo anda tidak mencukupi!')\n",
        "\n",
        "    def getsaldo(self, gopay):\n",
        "        print(f'Saldo Toped anda sekarang Rp {gopay.get_saldo()}')"
      ]
    },
    {
      "cell_type": "code",
      "source": [
        "#Main Program\n",
        "b = AkunGopay(\"085732453145\", \"suef\", 20000)\n",
        "a = AkunToped(\"085732453145\", \"suef\")\n",
        "\n",
        "b.topUp(432000)\n",
        "b.bayartransaksi(21000)\n",
        "a.transaksi(b, 20000)\n",
        "a.getsaldo(b)\n",
        ""
      ],
      "metadata": {
        "id": "eitzekkYkycQ",
        "colab": {
          "base_uri": "https://localhost:8080/"
        },
        "outputId": "226e727a-5ab4-4b13-ce15-001caf5992d2"
      },
      "execution_count": 3,
      "outputs": [
        {
          "output_type": "stream",
          "name": "stdout",
          "text": [
            "Top up Berhasil! saldo anda: 452000\n",
            "Bayar transaksi berhasil! saldo anda: 431000\n",
            "Bayar transaksi berhasil! saldo anda: 411000\n",
            "Saldo Toped anda sekarang Rp 411000\n"
          ]
        }
      ]
    }
  ]
}